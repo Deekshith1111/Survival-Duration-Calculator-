{
 "cells": [
  {
   "cell_type": "code",
   "execution_count": 1,
   "id": "180cf39b",
   "metadata": {},
   "outputs": [],
   "source": [
    "def age_calcualtor():\n",
    "  print()\n",
    "  print('***** Welcome To Survival Duration Calculator *****')\n",
    "  print()\n",
    "  print(\"Let's calculate the duration based on your age\")\n",
    "  print()\n",
    "  print(\"What's your age?\")\n",
    "  Age = int(input(\"Enter your age:\"))\n",
    "  print()\n",
    "  print(\"\"\"Please choose time unit: \n",
    "       \\n M) Months, \\n W) Weeks, \\n D) Days, \\n H) Hours, \\n m) Minutes, \\n S) Seconds.\"\"\")\n",
    "  print()\n",
    "  units = input(\"Selected time unit:\")\n",
    "  print()\n",
    "  if units == 'Months' or units == 'M':\n",
    "    print(\"Duration you lived in Months is:\",Age*12)\n",
    "  elif units == 'Weeks' or units == 'W':\n",
    "    print(\"Duration you lived in Weeks is:\",(Age*52))\n",
    "  elif units == 'Days' or units == 'D':\n",
    "    print(\"Duration you lived in Days is:\",Age*365)\n",
    "  elif units == 'Hours' or units == 'H':\n",
    "    print(\"Duration you lived in Hours is:\",(Age*365)*24)\n",
    "  elif units == 'Minutes' or units == 'm':\n",
    "    print(\"Duration you lived in Minutes is:\",((Age*365)*24)*60)\n",
    "  elif units == 'Seconds' or units == 'S':\n",
    "    print(\"Duration you lived in Seconds is:\",(((Age*365)*24)*60)*60)\n",
    "  else:\n",
    "    print(\"No response\")\n",
    "  print()\n",
    "  return"
   ]
  },
  {
   "cell_type": "code",
   "execution_count": 3,
   "id": "3dd01b0d",
   "metadata": {},
   "outputs": [
    {
     "name": "stdout",
     "output_type": "stream",
     "text": [
      "\n",
      "***** Welcome To Survival Duration Calculator *****\n",
      "\n",
      "Let's calculate the duration based on your age\n",
      "\n",
      "What's your age?\n",
      "Enter your age:21\n",
      "\n",
      "Please choose time unit: \n",
      "       \n",
      " M) Months, \n",
      " W) Weeks, \n",
      " D) Days, \n",
      " H) Hours, \n",
      " m) Minutes, \n",
      " S) Seconds.\n",
      "\n",
      "Selected time unit:M\n",
      "\n",
      "Duration you lived in Months is: 252\n",
      "\n"
     ]
    }
   ],
   "source": [
    "age_calcualtor()"
   ]
  },
  {
   "cell_type": "code",
   "execution_count": null,
   "id": "5b75572c",
   "metadata": {},
   "outputs": [],
   "source": []
  }
 ],
 "metadata": {
  "kernelspec": {
   "display_name": "Python 3 (ipykernel)",
   "language": "python",
   "name": "python3"
  },
  "language_info": {
   "codemirror_mode": {
    "name": "ipython",
    "version": 3
   },
   "file_extension": ".py",
   "mimetype": "text/x-python",
   "name": "python",
   "nbconvert_exporter": "python",
   "pygments_lexer": "ipython3",
   "version": "3.9.13"
  }
 },
 "nbformat": 4,
 "nbformat_minor": 5
}
